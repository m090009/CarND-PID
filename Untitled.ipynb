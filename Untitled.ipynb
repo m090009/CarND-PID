{
 "cells": [
  {
   "cell_type": "markdown",
   "metadata": {},
   "source": [
    "# PID Controller\n",
    "In this project I'm trying to get the car through the lake track using the PID controller. I constructed a PID controller as the one we did in the lessons, this controller successfully navigates the track after tuning the \n",
    "correct PID coefficients.\n",
    "\n",
    "Here is a video of the car driving through the track:\n",
    "![J](./PID_run.mp4\n",
    "\n",
    "[![PID video](./PID.jpg)](./PID.mp4))\n",
    "\n",
    "## Manual adjustment \n",
    "I initialized PID coefficients with the initial values that where given in class and slowly adjusted them until I found a consistent and robust values that could run the track for eternity and these values are **[.2 , .0001 , 3.0]**.\n",
    "\n",
    "## Twiddle \n",
    "I applied Twiddle to adjust the PID coefficients, it worked well, however, I noticed a little inconsistency also the manual value that I tuned prior performed better so I disabled the Twiddle optimizer.\n",
    "\n",
    "## Increased Speed and Throttle \n",
    "I tried out different speeds by adjusting the speed and throttle values, the PID was able to clear the track for multiple laps with speeds above **50 mph**, however, it did it in nauseating fashion just like the Fast and the Furious. I even tried speeds upd to **70 mph**, but the car spun out and fell into the lake.\n",
    "s"
   ]
  },
  {
   "cell_type": "code",
   "execution_count": null,
   "metadata": {
    "collapsed": true
   },
   "outputs": [],
   "source": []
  }
 ],
 "metadata": {
  "kernelspec": {
   "display_name": "Python [conda env:Py3Env]",
   "language": "python",
   "name": "conda-env-Py3Env-py"
  },
  "language_info": {
   "codemirror_mode": {
    "name": "ipython",
    "version": 3
   },
   "file_extension": ".py",
   "mimetype": "text/x-python",
   "name": "python",
   "nbconvert_exporter": "python",
   "pygments_lexer": "ipython3",
   "version": "3.6.7"
  },
  "varInspector": {
   "cols": {
    "lenName": 16,
    "lenType": 16,
    "lenVar": 40
   },
   "kernels_config": {
    "python": {
     "delete_cmd_postfix": "",
     "delete_cmd_prefix": "del ",
     "library": "var_list.py",
     "varRefreshCmd": "print(var_dic_list())"
    },
    "r": {
     "delete_cmd_postfix": ") ",
     "delete_cmd_prefix": "rm(",
     "library": "var_list.r",
     "varRefreshCmd": "cat(var_dic_list()) "
    }
   },
   "types_to_exclude": [
    "module",
    "function",
    "builtin_function_or_method",
    "instance",
    "_Feature"
   ],
   "window_display": false
  }
 },
 "nbformat": 4,
 "nbformat_minor": 2
}
